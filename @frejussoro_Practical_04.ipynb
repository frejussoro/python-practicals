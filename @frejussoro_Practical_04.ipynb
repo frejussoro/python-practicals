{
 "cells": [
  {
   "cell_type": "markdown",
   "metadata": {
    "id": "LPINvDFo9Nce"
   },
   "source": [
    "\n",
    "\n",
    "    \n",
    "#    <center> <b> <span style=\"color:orange;\" >  `Python for Scientific Computing and Software Engineering ` </span> </b></center>\n",
    "\n",
    "\n",
    "## <center> <b> <span style=\"color:orange;\"> An Initiation to Programming using Python (Init2Py) </span> </b></center>\n",
    "\n",
    "### <center> <b> <span style=\"color:blue;\"> Travaux Pratiques: Loops</span> </b></center>\n",
    "\n",
    "\n",
    "\n",
    "\n",
    "\n",
    "\n",
    "\n"
   ]
  },
  {
   "cell_type": "markdown",
   "metadata": {
    "id": "0vAKMUYl9Nc1"
   },
   "source": [
    "#### Exercice 0\n",
    ">On se propose de résoudre dans l'ensemble des entiers naturels l'inéquation $2n(n+1)<100$.\n",
    "En utilisant une boucle **While**, écris un programme qui renvoie les solutions entières de cette inéquation."
   ]
  },
  {
   "cell_type": "code",
   "execution_count": 1,
   "metadata": {
    "id": "tnXJLyHA9Nc4"
   },
   "outputs": [
    {
     "name": "stdout",
     "output_type": "stream",
     "text": [
      "[0, 1, 2, 3, 4, 5, 6]\n"
     ]
    }
   ],
   "source": [
    "solutions=[]\n",
    "n=0\n",
    "while (2*n)*(n+1) < 100 :\n",
    "    solutions.append(n)\n",
    "    n=n+1\n",
    "print(solutions)\n",
    "    "
   ]
  },
  {
   "cell_type": "markdown",
   "metadata": {
    "id": "USaieP9c9Nc5"
   },
   "source": [
    "#### Exercice 1\n",
    "> En utilisant une boucle **For**, écris un programme qui calcule la somme des 30 premiers entiers naturels non nuls."
   ]
  },
  {
   "cell_type": "code",
   "execution_count": 2,
   "metadata": {
    "id": "-a76WFyH9Nc7"
   },
   "outputs": [
    {
     "name": "stdout",
     "output_type": "stream",
     "text": [
      "465\n"
     ]
    }
   ],
   "source": [
    "somme=0\n",
    "for i in range(1,31):\n",
    "    somme = somme + i\n",
    "print(somme)"
   ]
  },
  {
   "cell_type": "markdown",
   "metadata": {
    "id": "_070Czs09Nc8"
   },
   "source": [
    "#### Exercice 2\n",
    ">Refais l'exercice 1 en utilisant une boucle **While**."
   ]
  },
  {
   "cell_type": "code",
   "execution_count": 2,
   "metadata": {
    "id": "m7dg2bhR9Nc9"
   },
   "outputs": [
    {
     "name": "stdout",
     "output_type": "stream",
     "text": [
      "465\n"
     ]
    }
   ],
   "source": [
    "somme=0\n",
    "i = 0\n",
    "while i < 31 :\n",
    "    somme = somme + i\n",
    "    i = i + 1\n",
    "print(somme)"
   ]
  },
  {
   "cell_type": "markdown",
   "metadata": {
    "id": "Hg1vBggc9Nc_"
   },
   "source": [
    "#### Exercice 3\n",
    ">En utilisant une boucle **For**, écris un programme qui calcule le produit des 9 premiers entiers naturels non nuls."
   ]
  },
  {
   "cell_type": "code",
   "execution_count": 5,
   "metadata": {
    "id": "h0TkyvqS9NdB"
   },
   "outputs": [
    {
     "name": "stdout",
     "output_type": "stream",
     "text": [
      "362880\n"
     ]
    }
   ],
   "source": [
    "produit=1\n",
    "for i in range(1,10):\n",
    "    produit = produit * i\n",
    "print(produit)"
   ]
  },
  {
   "cell_type": "markdown",
   "metadata": {
    "id": "a2iZm5y_9NdD"
   },
   "source": [
    "#### Exercice 4\n",
    "> Refais l'exercice 3 en utilisant une boucle **While**."
   ]
  },
  {
   "cell_type": "code",
   "execution_count": 7,
   "metadata": {},
   "outputs": [
    {
     "name": "stdout",
     "output_type": "stream",
     "text": [
      "362880\n"
     ]
    }
   ],
   "source": [
    "produit=1\n",
    "i = 1\n",
    "while i < 10 :\n",
    "    produit = produit * i\n",
    "    i = i + 1\n",
    "print(produit)"
   ]
  },
  {
   "cell_type": "markdown",
   "metadata": {
    "id": "rb3k7Bve9NdE"
   },
   "source": [
    "#### Exercice 5 \n",
    ">Écris un programme qui demande à l'utilisateur de saisir un nombre n et qui affiche tous les nombres pairs de $1$ à $n$ en utilisant la boucle **For**."
   ]
  },
  {
   "cell_type": "code",
   "execution_count": 10,
   "metadata": {
    "id": "ibXs9RCB9NdF"
   },
   "outputs": [
    {
     "name": "stdout",
     "output_type": "stream",
     "text": [
      "Entrer un nombre entier 10\n",
      "[2, 4, 6, 8, 10]\n"
     ]
    }
   ],
   "source": [
    "pairs = []\n",
    "n=int(input(\"Entrer un nombre entier \"))\n",
    "for i in range(1,n+1):\n",
    "    if (i % 2) == 0:\n",
    "        pairs.append(i)\n",
    "print(pairs)\n"
   ]
  },
  {
   "cell_type": "markdown",
   "metadata": {
    "id": "HPC3bfyE9NdG"
   },
   "source": [
    "#### Exercice 6\n",
    ">Refais l'exercice 5 en utilisant la boucle **While**."
   ]
  },
  {
   "cell_type": "code",
   "execution_count": 12,
   "metadata": {
    "id": "dRuTyo3m9NdH"
   },
   "outputs": [
    {
     "name": "stdout",
     "output_type": "stream",
     "text": [
      "Entrer un nombre entier 10\n",
      "[2, 4, 6, 8, 10]\n"
     ]
    }
   ],
   "source": [
    "pair = []\n",
    "n=int(input(\"Entrer un nombre entier \"))\n",
    "i=1\n",
    "while i < n+1 :\n",
    "    if (i % 2) == 0:\n",
    "        pair.append(i)\n",
    "    i=i+1\n",
    "print(pair)\n"
   ]
  },
  {
   "cell_type": "markdown",
   "metadata": {
    "id": "6fNPIIdQ9NdH"
   },
   "source": [
    "#### Exercice 7\n",
    ">Écris un programme qui demande à l'utilisateur de saisir un nombre n et qui affiche tous les nombres impairs de 1 à n en utilisant la boucle **For**."
   ]
  },
  {
   "cell_type": "code",
   "execution_count": 14,
   "metadata": {
    "id": "LuVEv9Lc9NdI"
   },
   "outputs": [
    {
     "name": "stdout",
     "output_type": "stream",
     "text": [
      "Entrer un nombre entier 10\n",
      "[1, 3, 5, 7, 9]\n"
     ]
    }
   ],
   "source": [
    "impairs = []\n",
    "n=int(input(\"Entrer un nombre entier \"))\n",
    "for i in range(1,n+1):\n",
    "    if (i % 2) == 1:\n",
    "        impairs.append(i)\n",
    "print(impairs)\n"
   ]
  },
  {
   "cell_type": "markdown",
   "metadata": {
    "id": "HIlapsJ89NdK"
   },
   "source": [
    "#### Exercice 8\n",
    ">Refais l'exercice 7 en utilisant la boucle **While**.\n",
    "\n"
   ]
  },
  {
   "cell_type": "code",
   "execution_count": 15,
   "metadata": {
    "id": "Igvjeb2E9NdM"
   },
   "outputs": [
    {
     "name": "stdout",
     "output_type": "stream",
     "text": [
      "Entrer un nombre entier 10\n",
      "[1, 3, 5, 7, 9]\n"
     ]
    }
   ],
   "source": [
    "impair = []\n",
    "n=int(input(\"Entrer un nombre entier \"))\n",
    "i=1\n",
    "while i < n+1 :\n",
    "    if (i % 2) == 1:\n",
    "        impair.append(i)\n",
    "    i=i+1\n",
    "print(impair)\n"
   ]
  },
  {
   "cell_type": "markdown",
   "metadata": {
    "id": "KOYLg_e79NdU"
   },
   "source": [
    "#### Exercice 9\n",
    ">Écris un programme qui demande à l'utilisateur de saisir un nombre n et qui affiche sa table de multiplication  en utilisant la boucle **For**."
   ]
  },
  {
   "cell_type": "code",
   "execution_count": 16,
   "metadata": {
    "id": "BvOU9oLw9NdU"
   },
   "outputs": [
    {
     "name": "stdout",
     "output_type": "stream",
     "text": [
      "Entrer un nombre entier 2\n",
      "1 x 8 = 2\n",
      "2 x 8 = 4\n",
      "3 x 8 = 6\n",
      "4 x 8 = 8\n",
      "5 x 8 = 10\n",
      "6 x 8 = 12\n",
      "7 x 8 = 14\n",
      "8 x 8 = 16\n",
      "9 x 8 = 18\n",
      "10 x 8 = 20\n"
     ]
    }
   ],
   "source": [
    "n=int(input(\"Entrer un nombre entier \"))\n",
    "for p in range(1,11):\n",
    "        v = p*n\n",
    "        print(p, 'x', 8, '=', v, sep =' ')"
   ]
  },
  {
   "cell_type": "markdown",
   "metadata": {
    "id": "Ukzy78L09NdV"
   },
   "source": [
    "#### Exercice 10\n",
    ">Refais l'exercice 9 en utilisant la boucle **While**."
   ]
  },
  {
   "cell_type": "code",
   "execution_count": 18,
   "metadata": {
    "id": "fRJ3oufC9NdV"
   },
   "outputs": [
    {
     "name": "stdout",
     "output_type": "stream",
     "text": [
      "Entrer un nombre entier 2\n",
      "1 x 8 = 2\n",
      "2 x 8 = 4\n",
      "3 x 8 = 6\n",
      "4 x 8 = 8\n",
      "5 x 8 = 10\n",
      "6 x 8 = 12\n",
      "7 x 8 = 14\n",
      "8 x 8 = 16\n",
      "9 x 8 = 18\n",
      "10 x 8 = 20\n"
     ]
    }
   ],
   "source": [
    "n=int(input(\"Entrer un nombre entier \"))\n",
    "p=1\n",
    "while p < 11 :\n",
    "        v = p*n\n",
    "        print(p, 'x', 8, '=', v, sep =' ')\n",
    "        p=p+1"
   ]
  },
  {
   "cell_type": "markdown",
   "metadata": {
    "id": "AQW435Hq9NdW"
   },
   "source": [
    "#### Exercice 11\n",
    ">Écris un programme qui demande à l'utilisateur d'entrer un nombre et de trouver tous ses diviseurs  en utilisant la boucle **For**."
   ]
  },
  {
   "cell_type": "code",
   "execution_count": 19,
   "metadata": {
    "id": "Zjs_NfT89NdX"
   },
   "outputs": [
    {
     "name": "stdout",
     "output_type": "stream",
     "text": [
      "Entrer un nombre entier 10\n",
      "[1, 2, 5, 10]\n"
     ]
    }
   ],
   "source": [
    "diviseur = []\n",
    "n=int(input(\"Entrer un nombre entier \"))\n",
    "for i in range(1,n+1) :\n",
    "    if (n % i) == 0:\n",
    "        diviseur.append(i)\n",
    "print(diviseur)"
   ]
  },
  {
   "cell_type": "markdown",
   "metadata": {
    "id": "pGp6labk9NdX"
   },
   "source": [
    "#### Exercice 12\n",
    ">Écris un programme qui demande à l'utilisateur d'entrer un entier naturel n et de trouver tous sa factorielle n!  en utilisant la boucle **For**. On rappelle que $n!=n*(n-1)*(n-2)...3*2*1$."
   ]
  },
  {
   "cell_type": "code",
   "execution_count": 20,
   "metadata": {
    "id": "iDw3TKDU9NdX"
   },
   "outputs": [
    {
     "name": "stdout",
     "output_type": "stream",
     "text": [
      "Entrer un nombre entier 5\n",
      "120\n"
     ]
    }
   ],
   "source": [
    "n=int(input(\"Entrer un nombre entier \"))\n",
    "fact=1\n",
    "for i in range(1,n+1):\n",
    "    fact=fact*i\n",
    "print(fact)"
   ]
  },
  {
   "cell_type": "markdown",
   "metadata": {
    "id": "eyKh1oTo9NdY"
   },
   "source": [
    "#### Exercice 13\n",
    ">Écris un programme qui demande à l'utilisateur d'entrer deux entiers naturels (plus petits que 15) et de trouver leur plus petit commun multiple utilisant la boucle **For**."
   ]
  },
  {
   "cell_type": "code",
   "execution_count": 32,
   "metadata": {
    "id": "ombGnLVQ9NdY"
   },
   "outputs": [
    {
     "name": "stdout",
     "output_type": "stream",
     "text": [
      "Entrer un nombre entier inferieur a 15 3\n",
      "Entrer un nombre entier inferieur a 15 4\n",
      "le PPCM est  12\n"
     ]
    }
   ],
   "source": [
    "n=int(input(\"Entrer un nombre entier inferieur a 15 \"))\n",
    "m=int(input(\"Entrer un nombre entier inferieur a 15 \"))\n",
    "L=[]\n",
    "M=[]\n",
    "N=[]\n",
    "for i in range(1,15) :\n",
    "    v = i*n\n",
    "    L.append(v)\n",
    "for j in range(1,15) :\n",
    "    u = j*m\n",
    "    M.append(u)\n",
    "for k in L :\n",
    "    if k in M:\n",
    "        N.append(k)\n",
    "print(\"le PPCM est \",min(N))\n"
   ]
  },
  {
   "cell_type": "markdown",
   "metadata": {
    "id": "j4zO7-ak9NdZ"
   },
   "source": [
    "#### Exercice 14\n",
    ">Écris un programme pour afficher la série de Fibonacci jusqu'à n termes en utilisant une boucle."
   ]
  },
  {
   "cell_type": "code",
   "execution_count": 34,
   "metadata": {
    "id": "5UknLOdY9NdZ"
   },
   "outputs": [
    {
     "name": "stdout",
     "output_type": "stream",
     "text": [
      "Entrer un nombre entier superieur a 1: 9\n",
      "1\n",
      "2\n",
      "3\n",
      "5\n",
      "8\n",
      "13\n",
      "21\n",
      "34\n"
     ]
    }
   ],
   "source": [
    "n=int(input(\"Entrer un nombre entier superieur a 1: \"))\n",
    "F_0=0\n",
    "F_1=1\n",
    "F_2=0\n",
    "for i in range(1,n):\n",
    "    F_2=F_1 + F_0\n",
    "    print(F_2)\n",
    "    F_0=F_1\n",
    "    F_1=F_2"
   ]
  },
  {
   "cell_type": "markdown",
   "metadata": {
    "id": "_RBVFZdl9Nda"
   },
   "source": [
    "#### Exercice 15\n",
    ">Écris, en utilisant une boucle **For**, un programme pour afficher 5 fois de suite le message \"Python est un très bon langage de programmation\"."
   ]
  },
  {
   "cell_type": "code",
   "execution_count": 37,
   "metadata": {
    "id": "IA5dPbgd9Nda"
   },
   "outputs": [
    {
     "name": "stdout",
     "output_type": "stream",
     "text": [
      "Python est un tres bon langage de programmation\n",
      "Python est un tres bon langage de programmation\n",
      "Python est un tres bon langage de programmation\n",
      "Python est un tres bon langage de programmation\n",
      "Python est un tres bon langage de programmation\n"
     ]
    }
   ],
   "source": [
    "n=\"Python est un tres bon langage de programmation\"\n",
    "for i in range(0,5):\n",
    "    print(n )"
   ]
  },
  {
   "cell_type": "markdown",
   "metadata": {
    "id": "VUgurSg59Nda"
   },
   "source": [
    "#### Exercice 16\n",
    ">Écris, en utilisant une boucle **While**, un programme pour afficher 7 fois de suite le message \"A cette allure je finirai par tout abandonner pour la programmation\"."
   ]
  },
  {
   "cell_type": "code",
   "execution_count": 39,
   "metadata": {
    "id": "TgE99bdh9Ndb"
   },
   "outputs": [
    {
     "name": "stdout",
     "output_type": "stream",
     "text": [
      "A cette allure je finirai par tout abandonner pour la programmation\n",
      "A cette allure je finirai par tout abandonner pour la programmation\n",
      "A cette allure je finirai par tout abandonner pour la programmation\n",
      "A cette allure je finirai par tout abandonner pour la programmation\n",
      "A cette allure je finirai par tout abandonner pour la programmation\n",
      "A cette allure je finirai par tout abandonner pour la programmation\n",
      "A cette allure je finirai par tout abandonner pour la programmation\n"
     ]
    }
   ],
   "source": [
    "n=\"A cette allure je finirai par tout abandonner pour la programmation\"\n",
    "i=1\n",
    "while i <= 7 :\n",
    "    print(n)\n",
    "    i=i+1\n",
    "    "
   ]
  },
  {
   "cell_type": "markdown",
   "metadata": {
    "id": "DVgTXQRX9Ndb"
   },
   "source": [
    "#### Exercice 17\n",
    ">Écris, en utilisant une boucle **For**, un programme qui compte à l'envers de 10 à 0 puis qui affiche le message \"Partez\".\n"
   ]
  },
  {
   "cell_type": "code",
   "execution_count": 40,
   "metadata": {
    "id": "w4L4KV6C9Ndc"
   },
   "outputs": [
    {
     "name": "stdout",
     "output_type": "stream",
     "text": [
      "10\n",
      "9\n",
      "8\n",
      "7\n",
      "6\n",
      "5\n",
      "4\n",
      "3\n",
      "2\n",
      "1\n",
      "0\n",
      "Partez\n"
     ]
    }
   ],
   "source": [
    "for i in range(0,11):\n",
    "    print(10-i)\n",
    "print(\"Partez\")"
   ]
  },
  {
   "cell_type": "markdown",
   "metadata": {
    "id": "raJAaAd29Ndc"
   },
   "source": [
    "#### Exercice 18\n",
    ">Écris, en utilisant une boucle **For**, un programme qui affiche chaque élément d'une chaine de caractère."
   ]
  },
  {
   "cell_type": "code",
   "execution_count": 41,
   "metadata": {
    "id": "wZv1gX4c9Ndd"
   },
   "outputs": [
    {
     "name": "stdout",
     "output_type": "stream",
     "text": [
      "K\n",
      "a\n",
      "n\n",
      "i\n",
      "g\n",
      "u\n",
      "i\n"
     ]
    }
   ],
   "source": [
    "n=\"Kanigui\"\n",
    "for i in range(0,len(n)):\n",
    "    print(n[i])"
   ]
  },
  {
   "cell_type": "markdown",
   "metadata": {
    "id": "095_Dtoc9Ndf"
   },
   "source": [
    "#### Exercice 19\n",
    ">Écris, en utilisant une boucle **For**, un programme qui compte à l'envers de 10 à 0 puis qui affiche le message \"Partez\"."
   ]
  },
  {
   "cell_type": "code",
   "execution_count": null,
   "metadata": {
    "id": "MOV4pZzn9Ndg"
   },
   "outputs": [],
   "source": []
  },
  {
   "cell_type": "markdown",
   "metadata": {
    "id": "5sUU7dgJ9Ndh"
   },
   "source": [
    "<center> <b> <span style=\"color:orange;\"> 🎉 FÉLICITATIONS ! / CONGRATULATIONS! 🎉 </span> </b></center>"
   ]
  }
 ],
 "metadata": {
  "colab": {
   "name": "Exercices_03_Boucles.ipynb",
   "provenance": []
  },
  "kernelspec": {
   "display_name": "Python 3",
   "language": "python",
   "name": "python3"
  },
  "language_info": {
   "codemirror_mode": {
    "name": "ipython",
    "version": 3
   },
   "file_extension": ".py",
   "mimetype": "text/x-python",
   "name": "python",
   "nbconvert_exporter": "python",
   "pygments_lexer": "ipython3",
   "version": "3.7.3"
  }
 },
 "nbformat": 4,
 "nbformat_minor": 1
}
