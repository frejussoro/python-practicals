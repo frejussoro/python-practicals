{
 "cells": [
  {
   "cell_type": "markdown",
   "metadata": {},
   "source": [
    "<center>\n",
    "    <a href=\"https://www.aims-senegal.org/\" ><img src=\"aimssn_logo.png\" style=\"float:center; max-width: 600px; display: inline\" alt=\"IMSP\"/> </a>\n",
    "    </center>\n",
    "    \n",
    "#    <center> <b> <span style=\"color:orange;\" >  `Python for Scientific Computing and Software Engineering ` </span> </b></center>\n",
    "\n",
    "\n",
    "## <center> <b> <span style=\"color:orange;\"> An Initiation to Programming using Python (Init2Py) </span> </b></center>\n",
    "\n",
    "### <center> <b> <span style=\"color:blue;\"> Practicals: Variables, Types & Operations </span> </b></center>"
   ]
  },
  {
   "cell_type": "markdown",
   "metadata": {},
   "source": [
    "**Exercise 00:**  \n",
    "\n",
    "> 1. Declare a variable `firstname` and assign it a value.\n",
    "> 2. Declare a `lastname` variable and assign a value to it.\n",
    "> 3. Declare a `full_name` variable and assign it a value.\n",
    "> 4. Declare a `country` variable and assign it a value.\n",
    "> 5. Declare a variable `city` and assign it a value.\n",
    "> 6. Declare a `age` variable and assign it a value.\n",
    "> 7. Declare a variable `year` and assign it a value.\n",
    "> 8. Declare a variable `is_marrie` and assign it a value.\n",
    "> 9. Declare a variable `is_true` and assign it a value.\n",
    "\n",
    "> For each of the above variable, display the value it contains using the `print()` function.\n",
    "\n",
    "\n"
   ]
  },
  {
   "cell_type": "code",
   "execution_count": 4,
   "metadata": {},
   "outputs": [
    {
     "name": "stdout",
     "output_type": "stream",
     "text": [
      "Kanigui Frejus SORO kanigui Frejus SORO Cote d ivoire Abidjan 24 1997 no yes\n"
     ]
    }
   ],
   "source": [
    "firstname='Kanigui Frejus'\n",
    "lastname='SORO'\n",
    "full_name='kanigui Frejus SORO'\n",
    "country='Cote d ivoire'\n",
    "city='Abidjan'\n",
    "age=24\n",
    "year=1997\n",
    "is_marrie='no'\n",
    "is_true='yes'\n",
    "print (firstname,lastname,full_name,country,city,age,year,is_marrie,is_true)\n"
   ]
  },
  {
   "cell_type": "markdown",
   "metadata": {},
   "source": [
    "**Exercise 01:** \n",
    "> Check the data type of all your variables using the built-in function `type()`.**\n"
   ]
  },
  {
   "cell_type": "code",
   "execution_count": 5,
   "metadata": {
    "scrolled": true
   },
   "outputs": [
    {
     "name": "stdout",
     "output_type": "stream",
     "text": [
      "<class 'str'>\n",
      "<class 'str'>\n",
      "<class 'str'>\n",
      "<class 'str'>\n",
      "<class 'str'>\n",
      "<class 'int'>\n",
      "<class 'int'>\n",
      "<class 'str'>\n",
      "<class 'str'>\n"
     ]
    }
   ],
   "source": [
    "ma_liste=[firstname,lastname,full_name,country,city,age,year,is_marrie,is_true]\n",
    "for i in ma_liste:\n",
    "    print(type(i))"
   ]
  },
  {
   "cell_type": "markdown",
   "metadata": {},
   "source": [
    "**Exercise 02:** \n",
    "> Calculate the value of $y$ ($y = x^2 + 6x + 9$). Try using different values of $x$ and determine at what value of $x$ will $y$ be equal to 0.**"
   ]
  },
  {
   "cell_type": "code",
   "execution_count": 6,
   "metadata": {},
   "outputs": [
    {
     "name": "stdout",
     "output_type": "stream",
     "text": [
      "0\n"
     ]
    }
   ],
   "source": [
    "x=-3\n",
    "y=x*x+6*x+9\n",
    "print(y)"
   ]
  },
  {
   "cell_type": "markdown",
   "metadata": {},
   "source": [
    "**Exercise 03:** \n",
    ">    \n",
    "     1. Declare your age as an integer variable\n",
    "     2. Declare your height as a float variable\n",
    "     3. Declare a variable that stores the base and height of a triangle. Calculate the area of this triangle (area = 0.5 x b x h)."
   ]
  },
  {
   "cell_type": "code",
   "execution_count": 8,
   "metadata": {},
   "outputs": [
    {
     "name": "stdout",
     "output_type": "stream",
     "text": [
      "5.0\n"
     ]
    }
   ],
   "source": [
    "age=24\n",
    "taille=float(184)\n",
    "b=5\n",
    "h=2\n",
    "area=0.5*b*h\n",
    "print(area)"
   ]
  },
  {
   "cell_type": "markdown",
   "metadata": {},
   "source": [
    "## *Tip: receiving input from the user *\n",
    "**To receive an input from the user, we use `input()`.**.\n",
    "\n",
    "**Example**\n",
    "Receive two numbers as input from the user and calculate their power:\n",
    "```python\n",
    "base = input(\"Enter a base: \")\n",
    "exponent = input(\"Enter an exponent: \")\n",
    "result = float(base) ** float(exponent)\n",
    "print(f \"{base} to the power of {exponent} = {result}\")\n",
    "```"
   ]
  },
  {
   "cell_type": "markdown",
   "metadata": {},
   "source": [
    "**Exercise 04:** \n",
    "> **Write a small code that asks the user to enter the side $a$, the side $b$ and the side $c$ of a triangle. Calculate the perimeter of the triangle (perimeter = a + b + c).**"
   ]
  },
  {
   "cell_type": "code",
   "execution_count": 1,
   "metadata": {},
   "outputs": [
    {
     "name": "stdout",
     "output_type": "stream",
     "text": [
      "Entrer the side a2\n",
      "Entrer the side b2\n",
      "Entrer the side c2\n",
      "6\n"
     ]
    }
   ],
   "source": [
    "a=input(\"Entrer the side a\")\n",
    "b=input(\"Entrer the side b\")\n",
    "c=input(\"Entrer the side c\")\n",
    "perimeter=int(a)+int(b)+int(c)\n",
    "print(perimeter)"
   ]
  },
  {
   "cell_type": "markdown",
   "metadata": {},
   "source": [
    "**Exercise 05:** \n",
    "> **Obtain the length and width of a rectangle using the prompt. Calculate its `area`and its `perimeter`.**"
   ]
  },
  {
   "cell_type": "code",
   "execution_count": 3,
   "metadata": {},
   "outputs": [
    {
     "name": "stdout",
     "output_type": "stream",
     "text": [
      "Entrer la longueur du rectangle l2\n",
      "Entrer la largeur du rectangle L2\n",
      "le perimetre est 8.0\n",
      "l aire est 4.0\n"
     ]
    }
   ],
   "source": [
    "l=input(\"Entrer la longueur du rectangle l\")\n",
    "L=input(\"Entrer la largeur du rectangle L\")\n",
    "P=(float(l)+float(L))*2\n",
    "A=float(l)*float(L)\n",
    "print(\"le perimetre est\",P)\n",
    "print(\"l' aire est\",A)"
   ]
  },
  {
   "cell_type": "markdown",
   "metadata": {},
   "source": [
    "**Exercice 06:** \n",
    "> **Obtenez le rayon d'un cercle en utilisant l'invite. Calculez l'aire (aire = pi x r x r) et la circonférence (c = 2 x pi x r) où pi = 3,14.**"
   ]
  },
  {
   "cell_type": "code",
   "execution_count": 1,
   "metadata": {},
   "outputs": [
    {
     "name": "stdout",
     "output_type": "stream",
     "text": [
      "Entrer le rayon du cercle3\n",
      "l aire est 30.599999999999998\n",
      "la circonference est 20.4\n"
     ]
    }
   ],
   "source": [
    "pi=3.4\n",
    "r=input(\"Entrer le rayon du cercle\")\n",
    "aire=pi*float(r)*float(r)\n",
    "cir=2*pi*float(r)\n",
    "print(\"l'aire est\", aire)\n",
    "print(\"la circonference est\",cir)"
   ]
  },
  {
   "cell_type": "markdown",
   "metadata": {},
   "source": [
    "**Exercice 07:**\n",
    "> **Calculez la pente, l'ordonnée à l'origine en x et l'ordonnée à l'origine en $y$ de $y = 2x -2$.**"
   ]
  },
  {
   "cell_type": "code",
   "execution_count": 1,
   "metadata": {},
   "outputs": [
    {
     "name": "stdout",
     "output_type": "stream",
     "text": [
      "Entrer une valeur de x2\n",
      "Entrer une autre valeur plus grande de x3\n",
      "la pente est 2.0\n",
      "l ordonnee a l origine est -2\n"
     ]
    }
   ],
   "source": [
    "x_1=input(\"Entrer une valeur de x\")\n",
    "y_1=2*float(x_1)-2\n",
    "x_2=input(\"Entrer une autre valeur plus grande de x\")\n",
    "y_2=2*float(x_2)-2\n",
    "pente=(float(y_2)-float(y_1))/(float(x_2)-float(x_1))\n",
    "ordo=2*0-2\n",
    "print(\"la pente est\", pente)\n",
    "print(\"l ordonnee a l'origine est\", ordo )"
   ]
  },
  {
   "cell_type": "markdown",
   "metadata": {},
   "source": [
    "**Exercice 08:** \n",
    "> **Rédigez un script qui demande à l'utilisateur d'entrer les heures et le taux horaire. Calculez la rémunération de la personne ?**"
   ]
  },
  {
   "cell_type": "code",
   "execution_count": 4,
   "metadata": {},
   "outputs": [
    {
     "name": "stdout",
     "output_type": "stream",
     "text": [
      "Entrer le nombre d heures4\n",
      "Entrer le taux horaire1000\n",
      "La renumeration est 4000.0\n"
     ]
    }
   ],
   "source": [
    "h=input(\"Entrer le nombre d'heures\")\n",
    "th=input(\"Entrer le taux horaire\")\n",
    "renum=int(h)*float(th)\n",
    "print(\"La renumeration est\", renum)"
   ]
  },
  {
   "cell_type": "markdown",
   "metadata": {},
   "source": [
    "**Exercice 09:** \n",
    "> **Écrivez un script qui demande à l'utilisateur d'entrer le nombre d'années. Calculez le nombre de secondes qu'une personne peut vivre. Supposons qu'une personne puisse vivre cent ans.**"
   ]
  },
  {
   "cell_type": "code",
   "execution_count": 9,
   "metadata": {},
   "outputs": [
    {
     "name": "stdout",
     "output_type": "stream",
     "text": [
      "Entrer le nombre d annees2\n",
      "le nomre de secondes est 63072000.0\n"
     ]
    }
   ],
   "source": [
    "nb=input(\"Entrer le nombre d'annees\")\n",
    "nbre_sec=float(nb)*31536000 # on suppose que 1 an= 365 jours\n",
    "print(\"le nombre de secondes est\", nbre_sec)"
   ]
  },
  {
   "cell_type": "markdown",
   "metadata": {},
   "source": [
    "**Exercice 10:** \n",
    "> **Écrivez un script Python qui affiche le tableau suivant**\n",
    "\n",
    "    1 1 1 1 1\n",
    "    \n",
    "    2 1 2 4 8\n",
    "    \n",
    "    3 1 3 9 27\n",
    "    \n",
    "    4 1 4 16 64\n",
    "    \n",
    "    5 1 5 25 125"
   ]
  },
  {
   "cell_type": "code",
   "execution_count": 5,
   "metadata": {},
   "outputs": [
    {
     "name": "stdout",
     "output_type": "stream",
     "text": [
      "1 1 1 1 1\n",
      "\n",
      "\n",
      "2 1 2 4 8\n",
      "\n",
      "\n",
      "3 1 3 9 27\n",
      "\n",
      "\n",
      "4 1 4 16 64\n",
      "\n",
      "\n",
      "5 1 5 25 125\n",
      "\n",
      "\n"
     ]
    }
   ],
   "source": [
    "for i in range(1,6):\n",
    "    print(i, 1, i, i**2,i**3)\n",
    "    print('\\n')\n",
    "\n"
   ]
  },
  {
   "cell_type": "markdown",
   "metadata": {},
   "source": [
    "**Exercise 11:** \n",
    ">**Assign the variables `time` and `distance` with the values $6.892$ and $19.7$. Calculate and display the value of the speed. Improve the display by imposing a digit after the decimal point.**"
   ]
  },
  {
   "cell_type": "code",
   "execution_count": 7,
   "metadata": {},
   "outputs": [
    {
     "name": "stdout",
     "output_type": "stream",
     "text": [
      "La vitesse  2.9\n"
     ]
    }
   ],
   "source": [
    "t=6.892\n",
    "d=19.7\n",
    "v=round(float(d)/float(t),1)\n",
    "print(\"La vitesse \", v)\n"
   ]
  },
  {
   "cell_type": "markdown",
   "metadata": {},
   "source": [
    "**Exercice 12:** \n",
    "> **Écrire un programme qui, à partir de la saisie d’un rayon et d’une hauteur, calcule levolume d’un cône droit.**"
   ]
  },
  {
   "cell_type": "code",
   "execution_count": 8,
   "metadata": {},
   "outputs": [
    {
     "name": "stdout",
     "output_type": "stream",
     "text": [
      "Entrer le rayon2\n",
      "Enter la hauteur2\n",
      "le volume du cone droit est 8.373333333333333\n"
     ]
    }
   ],
   "source": [
    "pi=3.14\n",
    "r=input(\"Entrer le rayon\")\n",
    "h=input(\"Enter la hauteur\")\n",
    "B=pi*float(r)*float(r)\n",
    "V=(float(B)*float(h))/3\n",
    "print(\"le volume du cone droit est\", V)"
   ]
  },
  {
   "cell_type": "markdown",
   "metadata": {},
   "source": [
    "**Exercise 13:** \n",
    "> **The user gives a positive integer and the program announces how many times in a row this integer is divisible by 2.**"
   ]
  },
  {
   "cell_type": "code",
   "execution_count": 4,
   "metadata": {},
   "outputs": [
    {
     "name": "stdout",
     "output_type": "stream",
     "text": [
      "Entrer un nombre positive7\n",
      "le nombre n est pas divisible par 2\n"
     ]
    }
   ],
   "source": [
    "a=input(\"Entrer un nombre positive\")\n",
    "b=int(a)%2\n",
    "c=int(a)/2\n",
    "if  b== 0:\n",
    "   print(\"le nombre de fois est\", c)\n",
    "else:\n",
    "   print(\"le nombre n'est pas divisible par 2\")"
   ]
  },
  {
   "cell_type": "markdown",
   "metadata": {},
   "source": [
    "**Exercise 14:** \n",
    ">**The user gives an integer between 2 and 12, the program gives the number of ways to do this by rolling two dice."
   ]
  },
  {
   "cell_type": "code",
   "execution_count": null,
   "metadata": {},
   "outputs": [],
   "source": []
  },
  {
   "cell_type": "markdown",
   "metadata": {},
   "source": [
    "**Exercice 15:** \n",
    "> **Utilisez la fonction d'entrée intégrée `input()` pour obtenir le `_prénom_`, le `_nom_`, le `_pays_d_origine` et l'`_age_` d'un utilisateur et stockez la valeur dans les noms des variables correspondantes.**"
   ]
  },
  {
   "cell_type": "code",
   "execution_count": 8,
   "metadata": {},
   "outputs": [
    {
     "name": "stdout",
     "output_type": "stream",
     "text": [
      "Entrer votre prenomKanigui Frejus\n",
      "Entrer votre nomSORO\n",
      "Entrer votre pays d'origineCote d'ivoire\n",
      "Entrer votre age24\n",
      "Prenom: Kanigui Frejus\n",
      "Nom: SORO\n",
      "Pays d'origine: Cote d'ivoire\n",
      "Age: 24\n"
     ]
    }
   ],
   "source": [
    "Prenom=input(\"Entrer votre prenom\")\n",
    "Nom=input(\"Entrer votre nom\")\n",
    "Po=input(\"Entrer votre pays d'origine\")\n",
    "age=input(\"Entrer votre age\")\n",
    "print(\"Prenom:\",Prenom)\n",
    "print(\"Nom:\",Nom)\n",
    "print(\"Pays d'origine:\",Po)\n",
    "print(\"Age:\",age)"
   ]
  },
  {
   "cell_type": "markdown",
   "metadata": {},
   "source": [
    "**Exercice 16:** \n",
    "\n",
    "**Déclarer $5$ comme `num_one` et $4$ comme `num_two`**\n",
    "\n",
    "   1. Additionner `num_one` et `num_two` et affecter la valeur à une variable `totale`.\n",
    "   2. Soustraire `num_two` de `num_one` et affecter la valeur à une variable `diff`.\n",
    "   3. Multipliez le `num_one` et le `num_two` et attribuez la valeur à une variable `produit`.\n",
    "   4. Divisez le `num_one` par le `num_two` et attribuez la valeur à une variable `division`.\n",
    "   5. Calculez `num_one` à la puissance de `num_two` et attribuez la valeur à une variable `exp`."
   ]
  },
  {
   "cell_type": "code",
   "execution_count": 9,
   "metadata": {},
   "outputs": [
    {
     "name": "stdout",
     "output_type": "stream",
     "text": [
      "somme= 9\n",
      "difference= 1\n",
      "produit= 20\n",
      "division= 1.25\n",
      "puissance= 625\n"
     ]
    }
   ],
   "source": [
    "num_one=5\n",
    "num_two=4\n",
    "totale=num_one + num_two\n",
    "diff=num_one - num_two\n",
    "produit=num_one*num_two\n",
    "division=num_one/num_two\n",
    "exp=num_one**(num_two)\n",
    "print(\"somme=\", totale)\n",
    "print(\"difference=\", diff)\n",
    "print(\"produit=\", produit)\n",
    "print(\"division=\", division)\n",
    "print(\"puissance=\", exp)"
   ]
  },
  {
   "cell_type": "markdown",
   "metadata": {},
   "source": [
    "<center> <b> <span style=\"color:orange;\"> 🎉 FÉLICITATIONS! / CONGRATULATIONS! 🎉 </span> </b></center>"
   ]
  }
 ],
 "metadata": {
  "kernelspec": {
   "display_name": "Python 3",
   "language": "python",
   "name": "python3"
  },
  "language_info": {
   "codemirror_mode": {
    "name": "ipython",
    "version": 3
   },
   "file_extension": ".py",
   "mimetype": "text/x-python",
   "name": "python",
   "nbconvert_exporter": "python",
   "pygments_lexer": "ipython3",
   "version": "3.7.3"
  }
 },
 "nbformat": 4,
 "nbformat_minor": 5
}
