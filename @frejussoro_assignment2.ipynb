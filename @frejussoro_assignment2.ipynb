{
 "cells": [
  {
   "cell_type": "markdown",
   "metadata": {},
   "source": [
    "1. Write a python script that asks the user for the values of x and y and uses these inputs to\n",
    "compute the numerical value of the expression"
   ]
  },
  {
   "cell_type": "code",
   "execution_count": 3,
   "metadata": {},
   "outputs": [],
   "source": [
    "from math import *\n",
    "def fonction(x,y):\n",
    "    M=sqrt(x**(2+y))\n",
    "    D=1/x\n",
    "    E=2*sin(y)\n",
    "    resultat=M/(D+E)\n",
    "    return resultat"
   ]
  },
  {
   "cell_type": "code",
   "execution_count": 4,
   "metadata": {},
   "outputs": [
    {
     "data": {
      "text/plain": [
       "0.7798851910940681"
      ]
     },
     "execution_count": 4,
     "metadata": {},
     "output_type": "execute_result"
    }
   ],
   "source": [
    "fonction(1,3)"
   ]
  },
  {
   "cell_type": "markdown",
   "metadata": {},
   "source": [
    "2. Write a function that given two integers b and n (n is positive), calculates bn without using\n",
    "python’s power operator. Name this function ownpowerfn.py.\n",
    "PS: What if we do not specify that n has to be positive?"
   ]
  },
  {
   "cell_type": "code",
   "execution_count": 5,
   "metadata": {},
   "outputs": [],
   "source": [
    "def puissance(b,n):\n",
    "    if n<0 :\n",
    "        print(\"Erreur\")\n",
    "    pui=1\n",
    "    for i in range(0,n):\n",
    "        pui=pui*b\n",
    "    return pui"
   ]
  },
  {
   "cell_type": "code",
   "execution_count": 6,
   "metadata": {},
   "outputs": [
    {
     "data": {
      "text/plain": [
       "8"
      ]
     },
     "execution_count": 6,
     "metadata": {},
     "output_type": "execute_result"
    }
   ],
   "source": [
    "puissance(2,3)"
   ]
  },
  {
   "cell_type": "markdown",
   "metadata": {},
   "source": [
    "PS: What if we do not specify that n has to be positive?"
   ]
  },
  {
   "cell_type": "code",
   "execution_count": 7,
   "metadata": {},
   "outputs": [],
   "source": [
    "def puissance(b,n):\n",
    "    pui=1\n",
    "    for i in range(0,n):\n",
    "        pui=pui*b\n",
    "    return pui"
   ]
  },
  {
   "cell_type": "code",
   "execution_count": 8,
   "metadata": {},
   "outputs": [
    {
     "data": {
      "text/plain": [
       "1"
      ]
     },
     "execution_count": 8,
     "metadata": {},
     "output_type": "execute_result"
    }
   ],
   "source": [
    "puissance(2,-6)"
   ]
  },
  {
   "cell_type": "markdown",
   "metadata": {},
   "source": [
    "3. Write functions that do the following:"
   ]
  },
  {
   "cell_type": "markdown",
   "metadata": {},
   "source": [
    "    a) Takes two arguments, and computes their arithmetic and geometric means. Name\n",
    "          these functions arithmetic_mean and geometric_mean respectively."
   ]
  },
  {
   "cell_type": "code",
   "execution_count": 11,
   "metadata": {},
   "outputs": [],
   "source": [
    "from math import *\n",
    "def arithmetic_mean(a,b):\n",
    "    moy_ar=(a+b)/2\n",
    "    print(moy_ar)\n",
    "def geometric_mean(a,b):\n",
    "    moy_geo= sqrt(a*b)\n",
    "    print(moy_geo)"
   ]
  },
  {
   "cell_type": "code",
   "execution_count": 12,
   "metadata": {},
   "outputs": [
    {
     "name": "stdout",
     "output_type": "stream",
     "text": [
      "38.0\n",
      "34.46737587922817\n"
     ]
    }
   ],
   "source": [
    "arithmetic_mean(22,54)\n",
    "geometric_mean(22,54)"
   ]
  },
  {
   "cell_type": "markdown",
   "metadata": {},
   "source": [
    "b) Converts degree Celsius to Fahrenheit and vice versa. Name these two functions\n",
    "celcius_to_fahrenheit and fahrenheit_to_celcius respectively"
   ]
  },
  {
   "cell_type": "code",
   "execution_count": 16,
   "metadata": {},
   "outputs": [],
   "source": [
    "def celcius_to_fahrenheit(n):\n",
    "    far=(n*(9/5)+32)\n",
    "    print(far)\n",
    "def fahrenhelt_to_celcius(far):\n",
    "    cel=(far-32)*(5/9)\n",
    "    print(cel)"
   ]
  },
  {
   "cell_type": "code",
   "execution_count": 17,
   "metadata": {},
   "outputs": [
    {
     "name": "stdout",
     "output_type": "stream",
     "text": [
      "50.0\n",
      "1.1111111111111112\n"
     ]
    }
   ],
   "source": [
    "celcius_to_fahrenheit(10)\n",
    "fahrenhelt_to_celcius(34)"
   ]
  },
  {
   "cell_type": "markdown",
   "metadata": {},
   "source": [
    "c) Converts angle in degrees to radians and vice versa. Name these two functions\n",
    "degrees_to_radians and radians_to_degrees respectively."
   ]
  },
  {
   "cell_type": "code",
   "execution_count": 18,
   "metadata": {},
   "outputs": [],
   "source": [
    "from math import *\n",
    "def degrees_to_radians(x):\n",
    "    radian=(x*pi)/180\n",
    "    print(radian)\n",
    "def radians_to_degrees(y):\n",
    "    degree=(180*y)/pi\n",
    "    print(degree)"
   ]
  },
  {
   "cell_type": "code",
   "execution_count": 19,
   "metadata": {},
   "outputs": [
    {
     "name": "stdout",
     "output_type": "stream",
     "text": [
      "0.767944870877505\n",
      "360.0\n"
     ]
    }
   ],
   "source": [
    "degrees_to_radians(44)\n",
    "radians_to_degrees(2*pi)"
   ]
  },
  {
   "cell_type": "markdown",
   "metadata": {},
   "source": [
    "d) Computes the circumference and the area of a circle given the radius."
   ]
  },
  {
   "cell_type": "code",
   "execution_count": 20,
   "metadata": {},
   "outputs": [],
   "source": [
    "from math import *\n",
    "def area(r):\n",
    "    aire=pi*(r**2)\n",
    "    print(aire)\n",
    "def circonference(r):\n",
    "    circum=2*pi*r\n",
    "    print(circum)"
   ]
  },
  {
   "cell_type": "code",
   "execution_count": 21,
   "metadata": {},
   "outputs": [
    {
     "name": "stdout",
     "output_type": "stream",
     "text": [
      "50.26548245743669\n",
      "25.132741228718345\n"
     ]
    }
   ],
   "source": [
    "area(4)\n",
    "circonference(4)"
   ]
  },
  {
   "cell_type": "markdown",
   "metadata": {},
   "source": [
    "4. Write functions that do the following"
   ]
  },
  {
   "cell_type": "markdown",
   "metadata": {},
   "source": [
    "    a) Given two numbers, compute their average and geometrical mean and prints them.\n",
    "       Now write a program that performs this process 10 times, taking as input the means\n",
    "       computed in the previous step. Name this function avggeom."
   ]
  },
  {
   "cell_type": "markdown",
   "metadata": {},
   "source": [
    "b) Write a function that computes the distance between two points in the plane. Use\n",
    "it in another program that computes the perimeter and the area of a triangle, given\n",
    "three points in the plane. Name this function distancefn."
   ]
  },
  {
   "cell_type": "code",
   "execution_count": null,
   "metadata": {},
   "outputs": [],
   "source": []
  },
  {
   "cell_type": "code",
   "execution_count": null,
   "metadata": {},
   "outputs": [],
   "source": []
  },
  {
   "cell_type": "markdown",
   "metadata": {},
   "source": [
    "6. For a fixed real number x and a natural number n, we can define recursively xn using the\n",
    "relations:"
   ]
  },
  {
   "cell_type": "code",
   "execution_count": 4,
   "metadata": {},
   "outputs": [],
   "source": [
    "def puissance(x,n):\n",
    "    x_0=1\n",
    "    for i in range(1,n+1):\n",
    "        x_n=x*x_0\n",
    "        print(x_n)\n",
    "        x_0=x_n"
   ]
  },
  {
   "cell_type": "code",
   "execution_count": 5,
   "metadata": {},
   "outputs": [
    {
     "name": "stdout",
     "output_type": "stream",
     "text": [
      "2\n",
      "4\n",
      "8\n",
      "16\n",
      "32\n",
      "64\n",
      "128\n",
      "256\n",
      "512\n",
      "1024\n"
     ]
    }
   ],
   "source": [
    "puissance(2,10)"
   ]
  },
  {
   "cell_type": "markdown",
   "metadata": {},
   "source": [
    "7. Écrivez un code qui met en œuvre la séquence de Fibonacci. Testez votre programme à 100"
   ]
  },
  {
   "cell_type": "code",
   "execution_count": 1,
   "metadata": {},
   "outputs": [
    {
     "name": "stdout",
     "output_type": "stream",
     "text": [
      "Entrer la premiere valeur initiale: 1\n",
      "Entrer la deuxieme valeur initiale: 2\n",
      "Entrer le nombre 100\n",
      "3\n",
      "5\n",
      "8\n",
      "13\n",
      "21\n",
      "34\n",
      "55\n",
      "89\n",
      "144\n",
      "233\n",
      "377\n",
      "610\n",
      "987\n",
      "1597\n",
      "2584\n",
      "4181\n",
      "6765\n",
      "10946\n",
      "17711\n",
      "28657\n",
      "46368\n",
      "75025\n",
      "121393\n",
      "196418\n",
      "317811\n",
      "514229\n",
      "832040\n",
      "1346269\n",
      "2178309\n",
      "3524578\n",
      "5702887\n",
      "9227465\n",
      "14930352\n",
      "24157817\n",
      "39088169\n",
      "63245986\n",
      "102334155\n",
      "165580141\n",
      "267914296\n",
      "433494437\n",
      "701408733\n",
      "1134903170\n",
      "1836311903\n",
      "2971215073\n",
      "4807526976\n",
      "7778742049\n",
      "12586269025\n",
      "20365011074\n",
      "32951280099\n",
      "53316291173\n",
      "86267571272\n",
      "139583862445\n",
      "225851433717\n",
      "365435296162\n",
      "591286729879\n",
      "956722026041\n",
      "1548008755920\n",
      "2504730781961\n",
      "4052739537881\n",
      "6557470319842\n",
      "10610209857723\n",
      "17167680177565\n",
      "27777890035288\n",
      "44945570212853\n",
      "72723460248141\n",
      "117669030460994\n",
      "190392490709135\n",
      "308061521170129\n",
      "498454011879264\n",
      "806515533049393\n",
      "1304969544928657\n",
      "2111485077978050\n",
      "3416454622906707\n",
      "5527939700884757\n",
      "8944394323791464\n",
      "14472334024676221\n",
      "23416728348467685\n",
      "37889062373143906\n",
      "61305790721611591\n",
      "99194853094755497\n",
      "160500643816367088\n",
      "259695496911122585\n",
      "420196140727489673\n",
      "679891637638612258\n",
      "1100087778366101931\n",
      "1779979416004714189\n",
      "2880067194370816120\n",
      "4660046610375530309\n",
      "7540113804746346429\n",
      "12200160415121876738\n",
      "19740274219868223167\n",
      "31940434634990099905\n",
      "51680708854858323072\n",
      "83621143489848422977\n",
      "135301852344706746049\n",
      "218922995834555169026\n",
      "354224848179261915075\n",
      "573147844013817084101\n",
      "927372692193078999176\n",
      "1500520536206896083277\n"
     ]
    }
   ],
   "source": [
    "a_0=int(input(\"Entrer la premiere valeur initiale: \"))\n",
    "a_1=int(input(\"Entrer la deuxieme valeur initiale: \") )\n",
    "t=int(input(\"Entrer le nombre \"))\n",
    "a_n=0\n",
    "for i in range(1,t+1):\n",
    "    a_n=a_1 + a_0 \n",
    "    print(a_n)\n",
    "    a_0=a_1\n",
    "    a_1=a_n"
   ]
  },
  {
   "cell_type": "code",
   "execution_count": 2,
   "metadata": {},
   "outputs": [],
   "source": []
  },
  {
   "cell_type": "code",
   "execution_count": null,
   "metadata": {},
   "outputs": [],
   "source": []
  }
 ],
 "metadata": {
  "kernelspec": {
   "display_name": "Python 3",
   "language": "python",
   "name": "python3"
  },
  "language_info": {
   "codemirror_mode": {
    "name": "ipython",
    "version": 3
   },
   "file_extension": ".py",
   "mimetype": "text/x-python",
   "name": "python",
   "nbconvert_exporter": "python",
   "pygments_lexer": "ipython3",
   "version": "3.7.3"
  }
 },
 "nbformat": 4,
 "nbformat_minor": 2
}
