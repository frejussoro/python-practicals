{
 "cells": [
  {
   "cell_type": "markdown",
   "metadata": {},
   "source": [
    "# 1.SUMMATIONS AND PRODUCTS"
   ]
  },
  {
   "cell_type": "markdown",
   "metadata": {},
   "source": [
    "1. Compute the following expressions for a natural number n chosen by the user:"
   ]
  },
  {
   "cell_type": "code",
   "execution_count": 3,
   "metadata": {},
   "outputs": [
    {
     "name": "stdout",
     "output_type": "stream",
     "text": [
      "Entrer un nombre entier 10\n",
      "40\n"
     ]
    }
   ],
   "source": [
    "#(i)\n",
    "n=int(input(\"Entrer un nombre entier \"))\n",
    "somme=0\n",
    "for i in range(0,n):\n",
    "    if (i%2)==1 :\n",
    "        somme=somme+(i+3)\n",
    "print(somme)"
   ]
  },
  {
   "cell_type": "code",
   "execution_count": 6,
   "metadata": {},
   "outputs": [
    {
     "name": "stdout",
     "output_type": "stream",
     "text": [
      "Entrer un nombre entier 10\n",
      "10395\n"
     ]
    }
   ],
   "source": [
    "#(ii)\n",
    "n=int(input(\"Entrer un nombre entier \"))\n",
    "produit=1\n",
    "for i in range(0,n):\n",
    "    if (i%2)==0 :\n",
    "        produit=produit*(i+3)\n",
    "print(produit)"
   ]
  },
  {
   "cell_type": "markdown",
   "metadata": {},
   "source": [
    "2. Write a program that reads the number of the day of the week (from 0 to 6). If it is a\n",
    "working day, then the program will write the name of the corresponding day. Otherwise,\n",
    "it will write the word \"Weekend\"."
   ]
  },
  {
   "cell_type": "code",
   "execution_count": 12,
   "metadata": {},
   "outputs": [
    {
     "name": "stdout",
     "output_type": "stream",
     "text": [
      "Entrer le numero du jour de la semaine de 0 a 6: 5\n",
      "Weekend\n"
     ]
    }
   ],
   "source": [
    "semaines=[\"Lundi\",\"Mardi\",\"Mercredi\",\"Jeudi\",\"Vendredi\",\"Samedi\",\"Dimanche\"]\n",
    "i=int(input(\"Entrer le numero du jour de la semaine de 0 a 6: \"))\n",
    "if i <= 4 :\n",
    "    print(semaines[i])\n",
    "else:\n",
    "    print(\"Weekend\")"
   ]
  },
  {
   "cell_type": "markdown",
   "metadata": {},
   "source": [
    "3. Make a program that, given a month number (from 0 to 11), indicates how many days it\n",
    "has (28, 30 or 31), ignoring the leap years."
   ]
  },
  {
   "cell_type": "code",
   "execution_count": 18,
   "metadata": {},
   "outputs": [
    {
     "name": "stdout",
     "output_type": "stream",
     "text": [
      "Entrer un nombre entier emtre 0 et 11: 4\n",
      "Mai 31 jours\n"
     ]
    }
   ],
   "source": [
    "mois=[\"janvier 31\",\"Fevrier 28\",\"Mars 31\",\"Avril 30\",\"Mai 31\",\"Juin 30\",\"Juillet 31\",\"Aout 31\",\"Septembtre 30\",\"Octobre 31\",\"Novembre 30\",\"Decembre 31\"]\n",
    "i=int(input(\"Entrer un nombre entier emtre 0 et 11: \"))\n",
    "if i > 11:\n",
    "    print(\"Il n y'a pas autant de mois dans l'annee\")\n",
    "else:\n",
    "    print(mois[i], \"jours\")"
   ]
  },
  {
   "cell_type": "markdown",
   "metadata": {},
   "source": [
    "4. Write two versions of python code that displays your name 3 times. One version with a\n",
    "\"for loop\" and another version with a \"while loop\"."
   ]
  },
  {
   "cell_type": "code",
   "execution_count": 21,
   "metadata": {},
   "outputs": [
    {
     "name": "stdout",
     "output_type": "stream",
     "text": [
      "['SORO', 'SORO', 'SORO']\n"
     ]
    }
   ],
   "source": [
    "n=\"SORO\"\n",
    "L=[]\n",
    "for i in range(0,3):\n",
    "    L.append(n)\n",
    "print(L)"
   ]
  },
  {
   "cell_type": "code",
   "execution_count": 25,
   "metadata": {},
   "outputs": [
    {
     "name": "stdout",
     "output_type": "stream",
     "text": [
      "SORO\n",
      "SORO\n",
      "SORO\n"
     ]
    }
   ],
   "source": [
    "n=\"SORO\"\n",
    "for i in range(0,3):\n",
    "    print(n)"
   ]
  },
  {
   "cell_type": "code",
   "execution_count": 23,
   "metadata": {},
   "outputs": [
    {
     "name": "stdout",
     "output_type": "stream",
     "text": [
      "['SORO', 'SORO', 'SORO']\n"
     ]
    }
   ],
   "source": [
    "n=\"SORO\"\n",
    "L=[]\n",
    "i=0\n",
    "while i < 3:\n",
    "    L.append(n)\n",
    "    i=i+1\n",
    "print(L)"
   ]
  },
  {
   "cell_type": "code",
   "execution_count": 26,
   "metadata": {},
   "outputs": [
    {
     "name": "stdout",
     "output_type": "stream",
     "text": [
      "SORO\n",
      "SORO\n",
      "SORO\n"
     ]
    }
   ],
   "source": [
    "n=\"SORO\"\n",
    "i=0\n",
    "while i < 3:\n",
    "    print(n)\n",
    "    i=i+1\n"
   ]
  },
  {
   "cell_type": "markdown",
   "metadata": {},
   "source": [
    "5. Given two numbers a0 and a1, the Fibonacci sequence they generate is constructed from\n",
    "the recursion formula an+1 = an + an􀀀1. Calculate the first 15 terms of a Fibonacci\n",
    "sequence, asking the user the initial values."
   ]
  },
  {
   "cell_type": "code",
   "execution_count": 45,
   "metadata": {},
   "outputs": [
    {
     "name": "stdout",
     "output_type": "stream",
     "text": [
      "Entrer la premiere valeur initiale: 1\n",
      "Entrer la deuxieme valeur initiale: 2\n",
      "3\n",
      "5\n",
      "8\n",
      "13\n",
      "21\n",
      "34\n",
      "55\n",
      "89\n",
      "144\n",
      "233\n",
      "377\n",
      "610\n",
      "987\n",
      "1597\n"
     ]
    }
   ],
   "source": [
    "a_0=int(input(\"Entrer la premiere valeur initiale: \"))\n",
    "a_1=int(input(\"Entrer la deuxieme valeur initiale: \") )\n",
    "a_n=0\n",
    "for i in range(1,15):\n",
    "    a_n=a_1 + a_0 \n",
    "    print(a_n)\n",
    "    a_0=a_1\n",
    "    a_1=a_n"
   ]
  },
  {
   "cell_type": "markdown",
   "metadata": {},
   "source": [
    "6. Compute the first 30 terms of the sequence defined by 2xn+2 􀀀 xn+1 􀀀 6xn = 0 sequence,\n",
    "given any two initial values x0 and x1"
   ]
  },
  {
   "cell_type": "code",
   "execution_count": 50,
   "metadata": {},
   "outputs": [
    {
     "name": "stdout",
     "output_type": "stream",
     "text": [
      "Entrer la premiere valeur initiale: 1\n",
      "Entrer la deuxieme valeur initiale: 3\n",
      "4.5\n",
      "11.25\n",
      "19.125\n",
      "43.3125\n",
      "79.03125\n",
      "169.453125\n",
      "321.8203125\n",
      "669.26953125\n",
      "1300.095703125\n",
      "2657.8564453125\n",
      "5229.21533203125\n",
      "10588.177001953125\n",
      "20981.734497070312\n",
      "42255.39825439453\n",
      "84072.9026184082\n",
      "168802.6460723877\n",
      "336620.03089141846\n",
      "674717.9536628723\n",
      "1347219.0695056915\n",
      "2697763.3957414627\n",
      "5390538.906387806\n",
      "10788559.640418291\n",
      "21565896.539372563\n",
      "43148627.190941155\n",
      "86272003.21358827\n",
      "172581883.17961758\n",
      "345106951.2305736\n",
      "690299125.1541395\n",
      "1380470416.2687905\n",
      "2761132583.5968137\n"
     ]
    }
   ],
   "source": [
    "x0=int(input(\"Entrer la premiere valeur initiale: \"))\n",
    "x1=int(input(\"Entrer la deuxieme valeur initiale: \") )\n",
    "xn = 0\n",
    "for i in range(0,30):\n",
    "    xn = (1/2)*(x1 + 6*x0)\n",
    "    print(xn)\n",
    "    x0 = x1\n",
    "    x1 = xn\n",
    "    "
   ]
  },
  {
   "cell_type": "markdown",
   "metadata": {},
   "source": [
    "7. a) Write python code to determine whether or not a year is a leap year. Be sure you\n",
    "know what a leap year is."
   ]
  },
  {
   "cell_type": "code",
   "execution_count": 53,
   "metadata": {},
   "outputs": [
    {
     "name": "stdout",
     "output_type": "stream",
     "text": [
      "Entrer une annee: 2024\n",
      "2024 est une annee bissextile\n"
     ]
    }
   ],
   "source": [
    "n=int(input(\"Entrer une annee: \"))\n",
    "if (n%4)==0 and (n%100)!=0:\n",
    "    print(n, \"est une annee bissextile\")\n",
    "else:\n",
    "    print(n, \"n'est pas une annee bissextile\")"
   ]
  },
  {
   "cell_type": "markdown",
   "metadata": {},
   "source": [
    "b) Write the code using only logical operators, i.e. no conditional branching"
   ]
  },
  {
   "cell_type": "code",
   "execution_count": 38,
   "metadata": {},
   "outputs": [
    {
     "name": "stdout",
     "output_type": "stream",
     "text": [
      "Entrer une annee 2024\n"
     ]
    },
    {
     "data": {
      "text/plain": [
       "True"
      ]
     },
     "execution_count": 38,
     "metadata": {},
     "output_type": "execute_result"
    }
   ],
   "source": [
    "a=int(input(\"Entrer une annee \"))\n",
    "a=(a%4)\n",
    "a==0"
   ]
  },
  {
   "cell_type": "markdown",
   "metadata": {},
   "source": [
    "8. a) Write python code that computes the sum of the square of the first n natural numbers.\n",
    "One version with a \"for loop\" and another version with a \"while loop\"."
   ]
  },
  {
   "cell_type": "code",
   "execution_count": 61,
   "metadata": {},
   "outputs": [
    {
     "name": "stdout",
     "output_type": "stream",
     "text": [
      "Entrer un nombre: 5\n",
      "55\n"
     ]
    }
   ],
   "source": [
    "n=int(input(\"Entrer un nombre: \"))\n",
    "somme = 0\n",
    "for i in range(1,n+1):\n",
    "    somme = somme + i**2\n",
    "print(somme)"
   ]
  },
  {
   "cell_type": "code",
   "execution_count": 62,
   "metadata": {},
   "outputs": [
    {
     "name": "stdout",
     "output_type": "stream",
     "text": [
      "Entrer un nombre: 5\n",
      "55\n"
     ]
    }
   ],
   "source": [
    "n=int(input(\"Entrer un nombre: \"))\n",
    "somme = 0\n",
    "i=0\n",
    "while i <= n :\n",
    "    somme = somme + i**2\n",
    "    i=i+1\n",
    "print(somme)"
   ]
  },
  {
   "cell_type": "markdown",
   "metadata": {},
   "source": [
    "b) Write python code that prints, for a natural number M, the smallest natural number\n",
    "n such that 12+22+\u0001 \u0001 \u0001+n2 \u0015 M: One version with a \"for loop\" and another version\n",
    "with a \"while loop\"."
   ]
  },
  {
   "cell_type": "code",
   "execution_count": 73,
   "metadata": {},
   "outputs": [
    {
     "name": "stdout",
     "output_type": "stream",
     "text": [
      "Entrer un nombre: 20\n",
      "4\n"
     ]
    }
   ],
   "source": [
    "M=int(input(\"Entrer un nombre: \"))\n",
    "mini=[]\n",
    "somme=0\n",
    "for i in range(1,M):\n",
    "    somme = somme + i**2\n",
    "    if somme >= M :\n",
    "        mini.append(i)\n",
    "print(min(mini))    "
   ]
  },
  {
   "cell_type": "code",
   "execution_count": 74,
   "metadata": {},
   "outputs": [
    {
     "name": "stdout",
     "output_type": "stream",
     "text": [
      "Entrer un nombre: 20\n",
      "4\n"
     ]
    }
   ],
   "source": [
    "M=int(input(\"Entrer un nombre: \"))\n",
    "mini=[]\n",
    "somme=0\n",
    "i=0\n",
    "while i < M:\n",
    "    somme = somme + i**2\n",
    "    if somme >= M :\n",
    "        mini.append(i)\n",
    "    i=i+1\n",
    "print(min(mini))    "
   ]
  },
  {
   "cell_type": "markdown",
   "metadata": {},
   "source": [
    "9. a) Write python code that prints all the divisors of a given natural number."
   ]
  },
  {
   "cell_type": "code",
   "execution_count": 1,
   "metadata": {},
   "outputs": [
    {
     "name": "stdout",
     "output_type": "stream",
     "text": [
      "Entrer un entier naturel: 10\n",
      "[1, 2, 5, 10]\n"
     ]
    }
   ],
   "source": [
    "n=int(input(\"Entrer un entier naturel: \"))\n",
    "L=[]\n",
    "for i in range(1,n+1):\n",
    "    if (n%i)==0 :\n",
    "        L.append(i)\n",
    "print(L)"
   ]
  },
  {
   "cell_type": "markdown",
   "metadata": {},
   "source": [
    "b) Read an integer number input by the user and calculate its prime factors. This will\n",
    "just be some of its divisors"
   ]
  },
  {
   "cell_type": "code",
   "execution_count": 7,
   "metadata": {},
   "outputs": [
    {
     "name": "stdout",
     "output_type": "stream",
     "text": [
      "Entrer  un nombre entier 10\n",
      "[2, 5]\n"
     ]
    }
   ],
   "source": [
    "n=int(input(\"Entrer  un nombre entier \"))\n",
    "i = 2\n",
    "facteur = []\n",
    "while i * i <= n:\n",
    "    if n % i:\n",
    "        i += 1\n",
    "    else:\n",
    "        n //= i\n",
    "        facteur.append(i)\n",
    "if n > 1:\n",
    "    facteur.append(n)\n",
    "print(facteur)"
   ]
  },
  {
   "cell_type": "markdown",
   "metadata": {},
   "source": [
    "10. Read an integer number between n 0 and 9 and print its multiplication table up to N\n",
    "where N is another another natural number read by the program."
   ]
  },
  {
   "cell_type": "code",
   "execution_count": 9,
   "metadata": {},
   "outputs": [
    {
     "name": "stdout",
     "output_type": "stream",
     "text": [
      "Entrer un nombre entre 1 et 9 4\n",
      "Entrer le nombre limite de la table 10\n",
      "1 x 4 = 4\n",
      "2 x 4 = 8\n",
      "3 x 4 = 12\n",
      "4 x 4 = 16\n",
      "5 x 4 = 20\n",
      "6 x 4 = 24\n",
      "7 x 4 = 28\n",
      "8 x 4 = 32\n",
      "9 x 4 = 36\n",
      "10 x 4 = 40\n"
     ]
    }
   ],
   "source": [
    "n=int(input(\"Entrer un nombre entre 1 et 9 \"))\n",
    "m=int(input(\"Entrer le nombre limite de la table \"))\n",
    "i = 1\n",
    "while i <=m :\n",
    "    v = i*n\n",
    "    print(i, 'x', n, '=', v, sep =' ')\n",
    "    i= i +1\n"
   ]
  },
  {
   "cell_type": "markdown",
   "metadata": {},
   "source": [
    "11. Write a program that prints all the numbers between 0 and 40 that are multiples of 3, 7\n",
    "or 11."
   ]
  },
  {
   "cell_type": "code",
   "execution_count": 11,
   "metadata": {},
   "outputs": [
    {
     "name": "stdout",
     "output_type": "stream",
     "text": [
      "[0, 3, 6, 7, 9, 11, 12, 14, 15, 18, 21, 22, 24, 27, 28, 30, 33, 35, 36, 39]\n"
     ]
    }
   ],
   "source": [
    "L=[]\n",
    "for i in range(0,41):\n",
    "    if (i%3)==0 or (i%7)==0 or (i%11)==0 :\n",
    "        L.append(i)\n",
    "print(L)"
   ]
  },
  {
   "cell_type": "markdown",
   "metadata": {},
   "source": [
    "12. Write python code that prints the floor of a float x. Recall that the floor of a float x is the\n",
    "largest integer value less than or equal to x, i.e. if E[x] is the floor of x, then it satisfies,"
   ]
  },
  {
   "cell_type": "code",
   "execution_count": 17,
   "metadata": {},
   "outputs": [
    {
     "name": "stdout",
     "output_type": "stream",
     "text": [
      "Entrer un nombre decimal 50.6\n",
      "La partie entiere est:  50\n"
     ]
    }
   ],
   "source": [
    "from math import *\n",
    "n=float(input(\"Entrer un nombre decimal \"))\n",
    "m=floor(n-1)\n",
    "partie_entiere= 1+m\n",
    "print(\"La partie entiere est: \",partie_entiere)"
   ]
  },
  {
   "cell_type": "markdown",
   "metadata": {},
   "source": [
    "13. Given a point in the plane by its Cartesian coordinates, determine in which quadrant it is\n",
    "(1st, 2nd, 3rd, 4th), if it lies on an axis, or if it is the origin. Do this for several points in\n",
    "the same execution of the program until the user quits."
   ]
  },
  {
   "cell_type": "code",
   "execution_count": 27,
   "metadata": {},
   "outputs": [
    {
     "name": "stdout",
     "output_type": "stream",
     "text": [
      "Entrer l'abscisse: 1\n",
      "Entrer l'ordonnee: 2\n",
      "1er quadran \n",
      "Voulez-vous continuer: oui\n",
      "Entrer l'abscisse: -1\n",
      "Entrer l'ordonnee: 2\n",
      "2eme quadran\n",
      "Voulez-vous continuer: oui\n",
      "Entrer l'abscisse: -2\n",
      "Entrer l'ordonnee: -1\n",
      "3eme quadran\n",
      "Voulez-vous continuer: oui\n",
      "Entrer l'abscisse: 1\n",
      "Entrer l'ordonnee: -4\n",
      "4eme quadran\n",
      "Voulez-vous continuer: oui\n",
      "Entrer l'abscisse: 0\n",
      "Entrer l'ordonnee: 4\n",
      "axe des ordonees\n",
      "Voulez-vous continuer: oui\n",
      "Entrer l'abscisse: 1\n",
      "Entrer l'ordonnee: 0\n",
      "axe des abscisses\n",
      "Voulez-vous continuer: non\n"
     ]
    }
   ],
   "source": [
    "rep=\"oui\"\n",
    "while rep==\"oui\" :\n",
    "    x=float(input(\"Entrer l'abscisse: \"))\n",
    "    y=float(input(\"Entrer l'ordonnee: \"))\n",
    "\n",
    "    if (x>0 and y>0):\n",
    "        print(\"1er quadran \")\n",
    "    elif (x<0 and y>0):\n",
    "        print(\"2eme quadran\")\n",
    "    elif (x<0 and y<0):\n",
    "        print(\"3eme quadran\")\n",
    "    elif (x>0 and y<0) :\n",
    "        print(\"4eme quadran\")\n",
    "    elif (x==0 and y!=0):\n",
    "        print(\"axe des ordonees\")\n",
    "    elif (x!=0 and y==0) :\n",
    "        print(\"axe des abscisses\")\n",
    "    rep=str(input(\"Voulez-vous continuer?: \"))"
   ]
  },
  {
   "cell_type": "code",
   "execution_count": 33,
   "metadata": {},
   "outputs": [
    {
     "name": "stdout",
     "output_type": "stream",
     "text": [
      "Entrer un nombre entier2\n",
      "Entrer un deuxieme nombre 100\n",
      "[2, 4, 6, 8, 10, 12, 14, 16, 18, 20, 22, 24, 26, 28, 30, 32, 34, 36, 38, 40, 42, 44, 46, 48, 50, 52, 54, 56, 58, 60, 62, 64, 66, 68, 70, 72, 74, 76, 78, 80, 82, 84, 86, 88, 90, 92, 94, 96, 98]\n",
      "Voulez-vous continuer ?affirmatif\n",
      "Entrer un nombre entier5\n",
      "Entrer un deuxieme nombre 85\n",
      "[2, 4, 6, 8, 10, 12, 14, 16, 18, 20, 22, 24, 26, 28, 30, 32, 34, 36, 38, 40, 42, 44, 46, 48, 50, 52, 54, 56, 58, 60, 62, 64, 66, 68, 70, 72, 74, 76, 78, 80, 82, 84, 86, 88, 90, 92, 94, 96, 98, 5, 10, 15, 20, 25, 30, 35, 40, 45, 50, 55, 60, 65, 70, 75, 80]\n",
      "Voulez-vous continuer ?non\n"
     ]
    }
   ],
   "source": [
    "reponses=\"affirmatif\"\n",
    "L=[]\n",
    "while reponses==\"affirmatif\" :\n",
    "    x=int(input(\"Entrer un nombre entier\"))\n",
    "    if (x>=10):\n",
    "        x=int(input(\"saisi incorrect, entrer un nombre correct \"))\n",
    "    Max=int(input(\"Entrer un deuxieme nombre \"))\n",
    "    if (Max>=256):\n",
    "        Max=int(input(\"saisi incorrect, entrer un nombre correct \"))\n",
    "    for i in range(1,Max):\n",
    "        if (i%x)==0 :\n",
    "            L.append(i)\n",
    "    print(L)\n",
    "    reponses=str(input(\"Voulez-vous continuer ?\"))"
   ]
  },
  {
   "cell_type": "code",
   "execution_count": null,
   "metadata": {},
   "outputs": [],
   "source": []
  }
 ],
 "metadata": {
  "kernelspec": {
   "display_name": "Python 3",
   "language": "python",
   "name": "python3"
  },
  "language_info": {
   "codemirror_mode": {
    "name": "ipython",
    "version": 3
   },
   "file_extension": ".py",
   "mimetype": "text/x-python",
   "name": "python",
   "nbconvert_exporter": "python",
   "pygments_lexer": "ipython3",
   "version": "3.7.3"
  }
 },
 "nbformat": 4,
 "nbformat_minor": 2
}
